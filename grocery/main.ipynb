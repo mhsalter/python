{
 "cells": [
  {
   "cell_type": "code",
   "execution_count": null,
   "metadata": {},
   "outputs": [],
   "source": [
    "import pandas as pd\n",
    "from main import load_dataset"
   ]
  },
  {
   "cell_type": "code",
   "execution_count": null,
   "metadata": {},
   "outputs": [],
   "source": [
    "data_dir = \"dataset/grocery_data.csv\"\n",
    "d_grocery = load_dataset(data_dir)\n",
    "d_grocery.head()"
   ]
  },
  {
   "cell_type": "code",
   "execution_count": null,
   "metadata": {},
   "outputs": [],
   "source": [
    "# def explore_revenue_monthly(data):\n",
    "monthly_revenue = d_grocery.groupby([\"Month\"]).sum()\n",
    "monthly_revenue.reset_index(level=0, inplace=True)\n",
    "monthly_revenue[[\"Month\", \"Total\"]]\n",
    "\n",
    "# data_berlevel = d_grocery.groupby([\"Month\", \"Product\"]).sum()\n",
    "# data_berlevel.reset_index(level=0, inplace=True)\n",
    "# data_berlevel"
   ]
  },
  {
   "cell_type": "code",
   "execution_count": null,
   "metadata": {},
   "outputs": [],
   "source": [
    "import plotly.offline as pyoff\n",
    "import plotly.graph_objs as go"
   ]
  },
  {
   "cell_type": "code",
   "execution_count": null,
   "metadata": {},
   "outputs": [],
   "source": [
    "plot_monthly_data = [\n",
    "\tgo.Scatter(\n",
    "\t\tx = monthly_revenue[\"Month\"],\n",
    "\t\ty = monthly_revenue[\"Total\"]\n",
    "\t)\n",
    "]\n",
    "\n",
    "plot_monthly_layout = go.Layout(\n",
    "    xaxis = {\"type\": \"category\"},\n",
    "    title = \"Monthly Revenue\"\n",
    ")"
   ]
  },
  {
   "cell_type": "code",
   "execution_count": null,
   "metadata": {},
   "outputs": [],
   "source": [
    "fig = go.Figure(data = plot_monthly_data, layout= plot_monthly_layout)\n",
    "pyoff.iplot(fig)\n",
    "fig.show\n",
    "fig.write_image(\"figures/fig1.jpg\")"
   ]
  },
  {
   "cell_type": "code",
   "execution_count": null,
   "metadata": {},
   "outputs": [],
   "source": [
    "data_product_by_quantity = d_grocery.groupby([\"Product\"])[[\"Total\", \"Quantity Ordered\"]].sum()\n",
    "data_product_by_quantity.reset_index(level=\"Product\", inplace=True)\n",
    "data_product_by_quantity"
   ]
  },
  {
   "cell_type": "code",
   "execution_count": null,
   "metadata": {},
   "outputs": [],
   "source": [
    "import plotly.express as px\n",
    "fig = px.bar(data_product_by_quantity, x=\"Product\", y=\"Quantity Ordered\", title=\"ordered_item\")\n",
    "fig.show()\n",
    "fig.write_image(\"figures/fig2.jpg\")"
   ]
  },
  {
   "cell_type": "code",
   "execution_count": null,
   "metadata": {},
   "outputs": [],
   "source": [
    "plot_data_compare_product = (\n",
    "    go.Scatter(\n",
    "        x = data_product_by_quantity[\"Product\"],\n",
    "        y = data_product_by_quantity[\"Total\"],\n",
    "        name = \"Total Revenue\"\n",
    "    ),\n",
    "    go.Scatter(\n",
    "        x = data_product_by_quantity[\"Product\"],\n",
    "        y = data_product_by_quantity[\"Quantity Ordered\"]\n",
    "    )\n",
    ")\n",
    "\n",
    "plot_data_compare_layout = go.Layout(\n",
    "    xaxis = {\"type\": \"category\"},\n",
    "    title = \"Compare Revenue and Quantity Ordered by Product\"\n",
    ")"
   ]
  },
  {
   "cell_type": "code",
   "execution_count": null,
   "metadata": {},
   "outputs": [],
   "source": [
    "fig = go.Figure(data = plot_data_compare_product, layout= plot_data_compare_layout)\n",
    "pyoff.iplot(fig)\n",
    "fig.show"
   ]
  },
  {
   "cell_type": "code",
   "execution_count": null,
   "metadata": {},
   "outputs": [],
   "source": [
    "data_product_by_month_city = d_grocery.query(\"City == 'Los Angeles CA' and Product == 'iPhone'\")\n",
    "data_product_by_month_city = data_product_by_month_city.groupby([\"Month\"])[[\"Total\", \"Quantity Ordered\"]].sum()\n",
    "data_product_by_month_city.reset_index(level=0, inplace=True)\n",
    "data_product_by_month_city\n"
   ]
  },
  {
   "cell_type": "code",
   "execution_count": null,
   "metadata": {},
   "outputs": [],
   "source": [
    "plot_data_product_month_city = (\n",
    "    go.Scatter(\n",
    "        x = data_product_by_month_city[\"Month\"],\n",
    "        y = data_product_by_month_city[\"Total\"],\n",
    "        name = \"Total Revenue\"\n",
    "    )\n",
    ")\n",
    "\n",
    "plot_layout_product_month_city = go.Layout(\n",
    "    xaxis = {\"type\": \"category\"},\n",
    "    title = \"Revenue iPhone in Los Angeles\"\n",
    ")\n",
    "\n",
    "fig = go.Figure(data = plot_data_product_month_city, layout= plot_layout_product_month_city)\n",
    "pyoff.iplot(fig)"
   ]
  },
  {
   "cell_type": "code",
   "execution_count": null,
   "metadata": {},
   "outputs": [],
   "source": [
    "calculate_cart_by_city = d_grocery.groupby([\"Month\", \"City\"])[\"Order ID\"].unique().reset_index()\n",
    "calculate_cart_by_city[\"Cart\"] = calculate_cart_by_city[\"Order ID\"].apply(lambda x: x.shape[0])\n",
    "calculate_cart_by_city\n"
   ]
  },
  {
   "cell_type": "code",
   "execution_count": null,
   "metadata": {},
   "outputs": [],
   "source": [
    "plot_data_compare_by_city = (\n",
    "    go.Scatter(\n",
    "        x = calculate_cart_by_city.query(\"City == 'Atlanta GA'\")[\"Month\"],\n",
    "        y = calculate_cart_by_city.query(\"City == 'Atlanta GA'\")[\"Cart\"],\n",
    "        name = \"Atlanta GA\"\n",
    "    ),\n",
    "    go.Scatter(\n",
    "        x = calculate_cart_by_city.query(\"City == 'Austin TX'\")[\"Month\"],\n",
    "        y = calculate_cart_by_city.query(\"City == 'Austin TX'\")[\"Cart\"],\n",
    "        name = \"Austin TX\"\n",
    "    ),\n",
    "    go.Scatter(\n",
    "        x = calculate_cart_by_city.query(\"City == 'Boston MA'\")[\"Month\"],\n",
    "        y = calculate_cart_by_city.query(\"City == 'Boston MA'\")[\"Cart\"],\n",
    "        name = \"Boston MA\"\n",
    "    ),\n",
    "    go.Scatter(\n",
    "        x = calculate_cart_by_city.query(\"City == 'Seattle WA'\")[\"Month\"],\n",
    "        y = calculate_cart_by_city.query(\"City == 'Seattle WA'\")[\"Cart\"],\n",
    "        name = \"Seattle WA\"\n",
    "    ),\n",
    "    go.Scatter(\n",
    "        x = calculate_cart_by_city.query(\"City == 'Los Angeles CA'\")[\"Month\"],\n",
    "        y = calculate_cart_by_city.query(\"City == 'Los Angeles CA'\")[\"Cart\"],\n",
    "        name = \"Los Angeles CA\"\n",
    "    ),\n",
    ")\n",
    "\n",
    "plot_data_compare_by_city_layout = go.Layout(\n",
    "    xaxis = {\"type\": \"category\"},\n",
    "    title = \"Revenue Cart by Month\"\n",
    ")\n",
    "\n",
    "fig = go.Figure(data = plot_data_compare_by_city, layout= plot_data_compare_by_city_layout)\n",
    "pyoff.iplot(fig)"
   ]
  },
  {
   "cell_type": "code",
   "execution_count": null,
   "metadata": {},
   "outputs": [],
   "source": [
    "def quarter_time(time):\n",
    "    hours = time [:2]\n",
    "    minutes = time [3:]\n",
    "    quarters = int(minutes) // 15\n",
    "\n",
    "    value = hours + \":\" + str(quarters*15)\n",
    "\n",
    "    return str(value)\n",
    "\n",
    "data_product_by_time = d_grocery.query(\"Product == 'iPhone'\")\n",
    "data_product_by_time[\"Quarter\"] = data_product_by_time[\"Time\"].apply(lambda x: f\"{quarter_time(x)}\")\n",
    "data_product_by_time = data_product_by_time.groupby(\"Quarter\")[[\"Quantity Ordered\", \"Total\"]].sum().reset_index()\n",
    "\n",
    "# data_product_by_time[\"Hour\"] = data_product_by_time[\"Time\"].str[:2]\n",
    "# data_product_by_time = data_product_by_time.groupby(\"Hour\")[[\"Quantity Ordered\", \"Total\"]].sum().reset_index()\n",
    "\n",
    "data_product_by_time"
   ]
  },
  {
   "cell_type": "code",
   "execution_count": null,
   "metadata": {},
   "outputs": [],
   "source": [
    "plot_data_product_by_time = (\n",
    "    go.Scatter(\n",
    "        x = data_product_by_time[\"Quarter\"],\n",
    "        y = data_product_by_time[\"Total\"],\n",
    "        name = \"Product iPhone\"\n",
    "    )\n",
    ")\n",
    "\n",
    "plot_layout_product_by_time = go.Layout(\n",
    "    xaxis = {\"type\": \"category\"},\n",
    "    title = \"Revenue Product iPhone in Hours\"\n",
    ")\n",
    "\n",
    "fig = go.Figure(data = plot_data_product_by_time, layout= plot_layout_product_by_time)\n",
    "pyoff.iplot(fig)"
   ]
  },
  {
   "cell_type": "code",
   "execution_count": null,
   "metadata": {},
   "outputs": [],
   "source": []
  }
 ],
 "metadata": {
  "interpreter": {
   "hash": "ff52d403c25b9f66628a4566b0358608ceaa6c2db96e0c7dda7b57e7111021fb"
  },
  "kernelspec": {
   "display_name": "Python 3.9.7 ('datascience')",
   "language": "python",
   "name": "python3"
  },
  "language_info": {
   "codemirror_mode": {
    "name": "ipython",
    "version": 3
   },
   "file_extension": ".py",
   "mimetype": "text/x-python",
   "name": "python",
   "nbconvert_exporter": "python",
   "pygments_lexer": "ipython3",
   "version": "3.9.7"
  },
  "orig_nbformat": 4
 },
 "nbformat": 4,
 "nbformat_minor": 2
}
