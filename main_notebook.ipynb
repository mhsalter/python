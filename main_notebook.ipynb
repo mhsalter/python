{
 "cells": [
  {
   "cell_type": "code",
   "execution_count": 2,
   "metadata": {},
   "outputs": [],
   "source": [
    "from basic.users import User\n",
    "\n",
    "def pertambahan(data, keys):\n",
    "    result = []\n",
    "    for i, item in enumerate(data):\n",
    "        hasil_tambah = item + keys\n",
    "        hasil_kurang = item - keys\n",
    "\n",
    "        result.append({\"tambah\": hasil_tambah, \"kurang\": hasil_kurang})"
   ]
  },
  {
   "cell_type": "code",
   "execution_count": 3,
   "metadata": {},
   "outputs": [],
   "source": [
    "users = User(keys = 3, nama = \"adi\")"
   ]
  },
  {
   "cell_type": "code",
   "execution_count": 4,
   "metadata": {},
   "outputs": [],
   "source": [
    "datas = [1, 3, 4, 5]"
   ]
  },
  {
   "cell_type": "code",
   "execution_count": 7,
   "metadata": {},
   "outputs": [
    {
     "data": {
      "text/plain": [
       "[{'tambah': 4, 'kurang': -2},\n",
       " {'tambah': 6, 'kurang': 0},\n",
       " {'tambah': 7, 'kurang': 1},\n",
       " {'tambah': 8, 'kurang': 2}]"
      ]
     },
     "execution_count": 7,
     "metadata": {},
     "output_type": "execute_result"
    }
   ],
   "source": [
    "result = users.pertambahan(datas)\n",
    "result"
   ]
  },
  {
   "cell_type": "code",
   "execution_count": null,
   "metadata": {},
   "outputs": [],
   "source": []
  }
 ],
 "metadata": {
  "kernelspec": {
   "display_name": "Python 3",
   "language": "python",
   "name": "python3"
  },
  "language_info": {
   "codemirror_mode": {
    "name": "ipython",
    "version": 3
   },
   "file_extension": ".py",
   "mimetype": "text/x-python",
   "name": "python",
   "nbconvert_exporter": "python",
   "pygments_lexer": "ipython3",
   "version": "3.8.5"
  }
 },
 "nbformat": 4,
 "nbformat_minor": 4
}
